{
 "cells": [
  {
   "cell_type": "markdown",
   "metadata": {},
   "source": [
    "# Textbook Problems\n",
    "\n",
    "From Rawlings, Mayne, and Diehl.\n",
    "\n",
    "* 1.16\n",
    "* 1.17\n",
    "\n",
    "Please turn these in during class on Fr"
   ]
  },
  {
   "cell_type": "code",
   "execution_count": null,
   "metadata": {},
   "outputs": [],
   "source": [
    "# This is code needed to run the assignment\n",
    "# If you restart the notebook, you'll need to run this code again\n",
    "import numpy as np\n",
    "import matplotlib.pyplot as plt\n",
    "import minecraftControl as mc\n",
    "import scipy.linalg as la\n",
    "\n",
    "%matplotlib inline"
   ]
  },
  {
   "cell_type": "markdown",
   "metadata": {},
   "source": [
    "# Background: Numpy\n",
    "\n",
    "We will work a lot with `numpy` matrices and vectors.\n"
   ]
  },
  {
   "cell_type": "code",
   "execution_count": null,
   "metadata": {},
   "outputs": [],
   "source": [
    "# We define matrices in numpy as follows:\n",
    "M = np.array([[1.,-2.,0],\n",
    "              [-3.,5.,8.]])\n",
    "\n",
    "print('M:')\n",
    "print(M)"
   ]
  },
  {
   "cell_type": "markdown",
   "metadata": {},
   "source": [
    "\n",
    "# Background: Numpy Vectors vs. Matrices\n",
    "\n",
    "The code below demonstrates the distinction between vectors and matrices in Numpy. This is different from Matlab, and from how we typically do math. However, the Numpy conventions simplify several aspects of coding. \n",
    "\n",
    "Run the code below and understand the discinction. We will be using these conventions throughout the class.\n",
    "\n"
   ]
  },
  {
   "cell_type": "code",
   "execution_count": null,
   "metadata": {},
   "outputs": [],
   "source": [
    "print('Matrices are Numpy arrays with two indices:')\n",
    "M = np.array([[1.,2],\n",
    "              [0,4],\n",
    "              [-1,6]])\n",
    "print('M:')\n",
    "print(M)\n",
    "print('M[1,1]: ', M[1,1])\n",
    "print('M[2,0]: ', M[2,0])\n",
    "\n",
    "print('Matrices can also be interpreted as a list-of-lists.')\n",
    "print('Specifically, the matrix is a list of rows')\n",
    "\n",
    "print('M[0]: ', M[0])\n",
    "\n",
    "print('In Numpy, is it common to represent vectors as arrays with just a single index:')\n",
    "z = np.array([-2.0,3.,5.])\n",
    "print('z: ',z)\n",
    "print('z[0]: ', z[0])"
   ]
  },
  {
   "cell_type": "markdown",
   "metadata": {},
   "source": [
    "# Multiplying Vectors and Matrices \n",
    "\n",
    "We saw above that vectors are represented by a single index, which is different from matrices (which have two indices). They are neither row vectors (which are matrices with one row), nor column vectors (which are matrices with one column). \n",
    "\n",
    "When multiplying vectors and matrices, Numpy determines from context whether a vector should be interpreted as a row or column vector. "
   ]
  },
  {
   "cell_type": "code",
   "execution_count": null,
   "metadata": {},
   "outputs": [],
   "source": [
    "print('np.dot is the matrix multiplication command')\n",
    "print('* does entry-by-entry multiplication, which is is not the same thing.')\n",
    "print('np.dot treats vectors as either a row vector or column vector depending on which side they occur')\n",
    "print('On the left, z acts as a row vector')\n",
    "print('zM: ', np.dot(z,M))\n",
    "\n",
    "print('As a shortcut, @ can be used instead of np.dot')\n",
    "print('zM', z@M)\n",
    "\n",
    "x = np.array([1.,1.])\n",
    "print('x: ', x)\n",
    "print('On the right, Numpy treats x as a column vector.')\n",
    "print('When you print the result, it \"looks\" like a row vector, but these are the correct values')\n",
    "print('Mx: ', np.dot(M,x))\n",
    "\n",
    "print('np.dot treats multiplication of vectors as a dot product')\n",
    "y = np.array([2.,3.])\n",
    "print('y: ', y)\n",
    "print(\"y\\'x:\", np.dot(y,x))\n",
    "\n",
    "print('To get an outer product of vectors, instead use np.outer')\n",
    "print(\"xy\\':\")\n",
    "print(np.outer(x,y))"
   ]
  },
  {
   "cell_type": "markdown",
   "metadata": {},
   "source": [
    "# Background: Matplotlib\n",
    "\n",
    "The main plotting tool for Python is Matplotlib. Here is how to use it."
   ]
  },
  {
   "cell_type": "code",
   "execution_count": null,
   "metadata": {},
   "outputs": [],
   "source": [
    "Time = np.linspace(0,2*np.pi,100)\n",
    "x = np.sin(Time)\n",
    "plt.plot(Time,x)\n",
    "plt.xlabel('Time')\n",
    "\n",
    "# By default, calling plot again adds the new data to the current axes\n",
    "y = np.cos(Time)\n",
    "plt.plot(Time,y)\n",
    "\n",
    "# Here is how you can make a new figure\n",
    "plt.figure()\n",
    "# If we just pass one array, it will plot the sequence with integers on the x-axis\n",
    "plt.plot(x)\n",
    "plt.xlabel('n')\n",
    "plt.ylabel('x')"
   ]
  },
  {
   "cell_type": "markdown",
   "metadata": {},
   "source": [
    "# Question\n",
    "\n",
    "Consider the scalar LQR problem from class:\n",
    "\n",
    "\\begin{align*}\n",
    "& \\min && \\sum_{k=0}^{T-1}(x_k^2 + u_k^2) \\\\\n",
    "& \\textrm{subject to} && x_{k+1} = x_k + u_k\n",
    "\\end{align*}\n",
    "\n",
    "Let $s_t^T$ be the numbers defined by\n",
    "\\begin{equation*}\n",
    "    V_t(x_t) = s_t^T x_t^2 = \\min_{u_t,\\ldots,u_{T-1}} \\sum_{k=t}^{T-1}(x_k^2+u_k^2)\n",
    "\\end{equation*}\n",
    "\n",
    "For $T=1,\\ldots,10$, compute the values of $s_0^T,\\ldots,s_T^T$.\n",
    "\n",
    "Plot them all on a single plot. \n",
    "\n",
    "Additionally, compute the steady-state value $s = \\lim_{T\\to\\infty} s_t^T$. (For this problem, it is computable by hand. Otherwise, you can use the command `la.solve_discrete_are`.) Plot this value as well in order to compare the finite horizon solutions with the infinite horizon solutions. \n"
   ]
  },
  {
   "cell_type": "code",
   "execution_count": null,
   "metadata": {},
   "outputs": [],
   "source": [
    "# Make your solution here\n"
   ]
  },
  {
   "cell_type": "markdown",
   "metadata": {},
   "source": [
    "# The Minecraft Control Environment\n",
    "\n",
    "Andy is currently building an environment for simulations in the class. His goal is to make the syntax compatible with OpenAI gym, which we will use later in the RL component of the class. However, that functionality is not ready this week. So, for now, we'll have to live with some specialized syntax.\n",
    "\n",
    "This week, the tasks will be about applying forces to a rolling ball to drive it to desired locations.\n",
    "\n",
    "The dynamics have the form:\n",
    "\n",
    "\\begin{equation*}\n",
    "x_{k+1} = A x_k + Bu_k\n",
    "\\end{equation*}\n",
    "\n",
    "where $A$ and $B$ are given below.\n",
    "\n"
   ]
  },
  {
   "cell_type": "code",
   "execution_count": null,
   "metadata": {},
   "outputs": [],
   "source": [
    "A = np.array([[1,0,.3,0],\n",
    "              [0,1,0,.3],\n",
    "              [0,0,1,0],\n",
    "              [0,0,0,1]])\n",
    "B = np.array([[0,0],\n",
    "              [0,0],\n",
    "              [.1,0],\n",
    "              [0,.1]])"
   ]
  },
  {
   "cell_type": "markdown",
   "metadata": {},
   "source": [
    "The specialized command we will use is `mc.timedAffineSequence`, which builds a controller from a sequence of affine feedback policies: \n",
    "\\begin{equation*}\n",
    "u_k = G_k x_k + s_k\n",
    "\\end{equation*}\n",
    "\n",
    "For compatibility with our model system, $G_k$ must be a $2\\times 4$ matrix and $s_k$ must be a length-2 vector.\n",
    "\n",
    "To see how this works, we'll give an example."
   ]
  },
  {
   "cell_type": "code",
   "execution_count": null,
   "metadata": {},
   "outputs": [],
   "source": [
    "Gain1 = np.array([[-1.,0,0,0],\n",
    "                  [0,-1,0,0]])\n",
    "Gain2 = np.array([[0.,0,-1,0],\n",
    "                  [0,0,0,-1]])\n",
    "\n",
    "\n",
    "Gains = [Gain1,\n",
    "         Gain1,\n",
    "         Gain1,\n",
    "         Gain1,\n",
    "         Gain1,\n",
    "         Gain2,\n",
    "         Gain2,\n",
    "         Gain2,\n",
    "         Gain2,\n",
    "         Gain2]\n",
    "\n",
    "# Just make all of the constant offsets 0\n",
    "s1 = np.array([1.,-1])\n",
    "s2 = np.zeros(2)\n",
    "# Here is a cleaner way of stacking a sequence of things\n",
    "Vecs = np.vstack([np.tile(s1,(5,1)),np.tile(s2,(5,1))])\n",
    "\n",
    "# These are the times to apply the controllers\n",
    "dt = 0.1\n",
    "TSamp = dt * np.arange(len(Gains))\n",
    "\n",
    "controller = mc.timedAffineSequence(Gains,Vecs,TSamp)\n",
    "\n",
    "Time,Traj = mc.ballSmall(controller)"
   ]
  },
  {
   "cell_type": "markdown",
   "metadata": {},
   "source": [
    "# Question\n",
    "\n",
    "Let $T=20$, $Q_k = 0$, $R_k = I$, and $S_T = 10\\cdot I$\n",
    "\n",
    "Find the sequence of feedback gains for the LQR problem:\n",
    "\\begin{align*}\n",
    "&\\min && \\sum_{k=0}^{T-1}(x_k^\\top Q_k x_k + u_k^\\top R_k u_k) + x_T^\\top S_T x_T \\\\\n",
    "& \\textrm{subject to} && x_{k+1} = A x_k + B u_k\n",
    "\\end{align*}\n",
    "\n",
    "For testing purposes, call your sequence "
   ]
  },
  {
   "cell_type": "code",
   "execution_count": null,
   "metadata": {},
   "outputs": [],
   "source": [
    "# Change this code \n",
    "\n",
    "T = 20\n",
    "LQRGains = np.zeros((T,2,4))"
   ]
  },
  {
   "cell_type": "code",
   "execution_count": null,
   "metadata": {},
   "outputs": [],
   "source": [
    "# Run this cell to test your gains\n",
    "LQRVecs = np.zeros((T,2))\n",
    "TSamp = dt * np.arange(T)\n",
    "\n",
    "controller = mc.timedAffineSequence(LQRGains,LQRVecs,TSamp)\n",
    "\n",
    "x0 = np.array([1.,-1,0,0])\n",
    "Time,Traj = mc.ballSmall(controller,x0)"
   ]
  },
  {
   "cell_type": "markdown",
   "metadata": {},
   "source": [
    "# Question\n",
    "\n",
    "Modify the feedback policy so that instead of driving to the origin, it drives to the target state defined below:"
   ]
  },
  {
   "cell_type": "code",
   "execution_count": null,
   "metadata": {},
   "outputs": [],
   "source": [
    "x_target = np.array([-2,1,0,0])"
   ]
  },
  {
   "cell_type": "markdown",
   "metadata": {},
   "source": [
    "Modify the testing code so that you can see if you controller really drives to the new target."
   ]
  },
  {
   "cell_type": "code",
   "execution_count": null,
   "metadata": {},
   "outputs": [],
   "source": [
    "# Make your code here."
   ]
  }
 ],
 "metadata": {
  "kernelspec": {
   "display_name": "Python [default]",
   "language": "python",
   "name": "python3"
  },
  "language_info": {
   "codemirror_mode": {
    "name": "ipython",
    "version": 3
   },
   "file_extension": ".py",
   "mimetype": "text/x-python",
   "name": "python",
   "nbconvert_exporter": "python",
   "pygments_lexer": "ipython3",
   "version": "3.6.8"
  }
 },
 "nbformat": 4,
 "nbformat_minor": 2
}
