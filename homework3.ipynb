{
 "cells": [
  {
   "cell_type": "code",
   "execution_count": null,
   "metadata": {},
   "outputs": [],
   "source": [
    "# This is code for loading the libraries needed for the assignment\n",
    "import numpy as np\n",
    "from casadi import *\n",
    "import scipy.linalg as la\n",
    "import matplotlib.pyplot as plt\n",
    "import minecraftControl as mc\n",
    "\n",
    "env = mc.constrainedCar()\n",
    "\n",
    "%matplotlib inline"
   ]
  },
  {
   "cell_type": "markdown",
   "metadata": {},
   "source": [
    "# The Car Environment\n",
    "\n",
    "In the next problem we will use MPC on a vehicle which is not well-approximated by a linear time-invariant system. As a result, the optimization problem used in MPC is non-convex, and cannot be solved exactly. Regardless, we will see that MPC can drive the vehicle to a goal state. (Most of the time.)\n",
    "\n",
    "Here is a simulation with random inputs."
   ]
  },
  {
   "cell_type": "code",
   "execution_count": null,
   "metadata": {},
   "outputs": [],
   "source": [
    "# We need to first call reset to initialize the state\n",
    "x = env.reset()\n",
    "X_traj = [x]\n",
    "U_traj = []\n",
    "\n",
    "\n",
    "for _ in range(200):\n",
    "    # Randomly generate a feasible input\n",
    "    u = env.action_space.sample()\n",
    "    #u = np.array([0,.5])\n",
    "    x,r,done,info = env.step(u)\n",
    "    \n",
    "    # Saving the state and action sequences\n",
    "    X_traj.append(x)\n",
    "    U_traj.append(u)\n",
    "    \n",
    "    # Render shows the video\n",
    "    # If you don't want video, comment the line out.\n",
    "    env.render()\n",
    "    if done:\n",
    "        # This stops the simulation when \n",
    "        # a constraint is violated\n",
    "        print(info)\n",
    "        print('u:',u)\n",
    "        print('x:',x)\n",
    "        break\n",
    "    \n",
    "env.close()\n",
    "\n",
    "# Plot the trajectories\n",
    "X_traj = np.array(X_traj)\n",
    "U_traj = np.array(U_traj)\n",
    "fig,ax = plt.subplots(2,1)\n",
    "ax[0].plot(X_traj)\n",
    "ax[0].set_ylabel('x')\n",
    "ax[1].plot(U_traj)\n",
    "ax[1].set_ylabel('u')"
   ]
  },
  {
   "cell_type": "markdown",
   "metadata": {},
   "source": [
    "Here is a description of the dynamics, the constraints, and the costs used for MPC."
   ]
  },
  {
   "cell_type": "code",
   "execution_count": null,
   "metadata": {},
   "outputs": [],
   "source": [
    "\n",
    "# The dynamics are defined below \n",
    "\n",
    "\n",
    "# We'll just define it using CasADi symbolics\n",
    "gain = env.gain\n",
    "dt = env.dt\n",
    "\n",
    "x = MX.sym('x',5)\n",
    "px = x[0]\n",
    "py = x[1]\n",
    "theta = x[2]\n",
    "v = x[3]\n",
    "omega = x[4]\n",
    "\n",
    "\n",
    "u = MX.sym('u',2)\n",
    "uF = u[0]\n",
    "uTau = u[1]\n",
    "\n",
    "x_dot = vertcat(v*cos(theta),\n",
    "                v*sin(theta),\n",
    "                omega,\n",
    "                gain * uF,\n",
    "                gain * uTau)\n",
    "\n",
    "# This is the description of the dynamics\n",
    "x_next = x + dt * x_dot\n",
    "\n",
    "# This creates a callable function that can implement the dynamics\n",
    "# It will return a CasADi vector,\n",
    "dynamics = Function('dynamics',[x,u],[x_next])\n",
    "\n",
    "# Here is the step loss\n",
    "# Note that it only depends on the state, and does not depend \n",
    "loss =  1* px**2 + 1 * py**2 + 2 * v**2 + .1 * omega**2\n",
    "step_loss = Function('step_loss',[x,u],[loss])\n",
    "\n",
    "\n",
    "# No final cost\n",
    "final_cost = Function('final_cost',[x],[0. ])\n",
    "c = np.inf\n",
    "\n",
    "# The constraints\n",
    "tighten = 1e-3\n",
    "step_constraint = Function('step_constraint',[x,u],[vertcat(x,u)])\n",
    "step_lb = np.hstack([env.observation_space.low+tighten,env.action_space.low+tighten])\n",
    "step_ub = np.hstack([env.observation_space.high-tighten,env.action_space.high-tighten])\n",
    "\n"
   ]
  },
  {
   "cell_type": "markdown",
   "metadata": {},
   "source": [
    "# Question\n",
    "\n",
    "Simulate the vehicle using an MPC controller. If you have it working, it should drive the vehicle to the center.\n",
    "A horizon of $N=50$ should give reasonable behavior. Experiment with changing the step loss and the horizon to improve the behavior.\n",
    "\n"
   ]
  },
  {
   "cell_type": "code",
   "execution_count": null,
   "metadata": {},
   "outputs": [],
   "source": [
    "# Build your simulation here."
   ]
  },
  {
   "cell_type": "markdown",
   "metadata": {},
   "source": [
    "# Noisy Ball\n",
    "\n",
    "Recall the ball environment from last homework. Recall that the dynamics had the form\n",
    "\n",
    "$$x(k+1) = Ax(k) + Bu(k)$$\n",
    "\n",
    "where $A$ and $B$ are given as below."
   ]
  },
  {
   "cell_type": "code",
   "execution_count": null,
   "metadata": {},
   "outputs": [],
   "source": [
    "env = mc.constrainedBall()\n",
    "dt = env.dt\n",
    "A = np.array([[1,0,3 *dt,0],\n",
    "              [0,1,0,3 * dt],\n",
    "              [0,0,1,0],\n",
    "              [0,0,0,1]])\n",
    "\n",
    "B = np.array([[0,0],\n",
    "              [0,0],\n",
    "              [dt,0],\n",
    "              [0,dt]])"
   ]
  },
  {
   "cell_type": "markdown",
   "metadata": {},
   "source": [
    "# Question \n",
    "\n",
    "Say instead that the dynamics are given by\n",
    "\n",
    "$$x(k+1) = A x(k) + B(u(k) + d(k)),$$\n",
    "\n",
    "where $d(k)$ random forces with components generated uniformly over $[-0.1,0.1]$. \n",
    "\n",
    "* Modify your simulation to include the input disturbances, $d(k)$. \n",
    "* Modify your MPC controller to ensure that state remains feasible."
   ]
  },
  {
   "cell_type": "code",
   "execution_count": null,
   "metadata": {},
   "outputs": [],
   "source": [
    "# Make your new controller and simulation here."
   ]
  }
 ],
 "metadata": {
  "kernelspec": {
   "display_name": "Python [default]",
   "language": "python",
   "name": "python3"
  },
  "language_info": {
   "codemirror_mode": {
    "name": "ipython",
    "version": 3
   },
   "file_extension": ".py",
   "mimetype": "text/x-python",
   "name": "python",
   "nbconvert_exporter": "python",
   "pygments_lexer": "ipython3",
   "version": "3.6.8"
  }
 },
 "nbformat": 4,
 "nbformat_minor": 2
}
