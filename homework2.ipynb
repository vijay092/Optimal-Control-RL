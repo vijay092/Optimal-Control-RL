{
 "cells": [
  {
   "cell_type": "markdown",
   "metadata": {},
   "source": [
    "# Homework 2\n",
    "\n",
    "This homework will have a mix of theory questions and coding questions defined throughout the notebook. Please turn the theory questions in at class on Friday, Sept. 20, and upload the notebook to canvas."
   ]
  },
  {
   "cell_type": "code",
   "execution_count": null,
   "metadata": {},
   "outputs": [],
   "source": [
    "# This is code for loading the libraries needed for the assignment\n",
    "import numpy as np\n",
    "from casadi import *\n",
    "import scipy.linalg as la\n",
    "import matplotlib.pyplot as plt\n",
    "import minecraftControl as mc\n",
    "\n",
    "env = mc.constrainedBall()\n",
    "\n",
    "%matplotlib inline"
   ]
  },
  {
   "cell_type": "markdown",
   "metadata": {},
   "source": [
    "# Constrained Sphere Gym Environment\n",
    "\n",
    "The rolling sphere problem from last week has been modified to be compatible with OpenAI Gym, a popular testbed for reinforcement learning. This is so that our codes for the class can be streamlined for compatibility. \n",
    "\n",
    "This problem is similar to the system we used last week, except now constraints on the state and input are enforced.\n",
    "\n",
    "An example of its use, with randomly generated inputs is given below."
   ]
  },
  {
   "cell_type": "code",
   "execution_count": null,
   "metadata": {},
   "outputs": [],
   "source": [
    "# We need to first call reset to initialize the state\n",
    "x = env.reset()\n",
    "X_traj = [x]\n",
    "U_traj = []\n",
    "\n",
    "\n",
    "for _ in range(1000):\n",
    "    # Randomly generate a feasible input\n",
    "    u = env.action_space.sample()\n",
    "    x,r,done,info = env.step(u)\n",
    "    \n",
    "    # Saving the state and action sequences\n",
    "    X_traj.append(x)\n",
    "    U_traj.append(u)\n",
    "    \n",
    "    # Render shows the video\n",
    "    # If you don't want video, comment the line out.\n",
    "    env.render()\n",
    "    if done:\n",
    "        # This stops the simulation when \n",
    "        # a constraint is violated\n",
    "        print(info)\n",
    "        print('u:',u)\n",
    "        print('x:',x)\n",
    "        break\n",
    "    \n",
    "env.close()\n",
    "\n",
    "# Plot the trajectories\n",
    "X_traj = np.array(X_traj)\n",
    "U_traj = np.array(U_traj)\n",
    "fig,ax = plt.subplots(2,1)\n",
    "ax[0].plot(X_traj)\n",
    "ax[0].set_ylabel('x')\n",
    "ax[1].plot(U_traj)\n",
    "ax[1].set_ylabel('u')"
   ]
  },
  {
   "cell_type": "code",
   "execution_count": null,
   "metadata": {},
   "outputs": [],
   "source": [
    "# The constraints are shown here\n",
    "print('x - lower bound:',env.observation_space.low)\n",
    "print('x - upper bound:',env.observation_space.high)\n",
    "print('u - lower bound:',env.action_space.low)\n",
    "print('u - upper bound:',env.action_space.high)"
   ]
  },
  {
   "cell_type": "markdown",
   "metadata": {},
   "source": [
    "This homework will step through the procedure of building an MPC controller for this system \n",
    "\n",
    "The dynamics of the system are given by\n",
    "$$\n",
    "x^+ = Ax + Bu\n",
    "$$\n",
    "where $A$ and $B$ are the matrices defined below."
   ]
  },
  {
   "cell_type": "code",
   "execution_count": null,
   "metadata": {},
   "outputs": [],
   "source": [
    "dt = env.dt\n",
    "A = np.array([[1,0,3 *dt,0],\n",
    "              [0,1,0,3 * dt],\n",
    "              [0,0,1,0],\n",
    "              [0,0,0,1]])\n",
    "\n",
    "B = np.array([[0,0],\n",
    "              [0,0],\n",
    "              [dt,0],\n",
    "              [0,dt]])"
   ]
  },
  {
   "cell_type": "markdown",
   "metadata": {},
   "source": [
    "# Theory Question 1 \n",
    "\n",
    "\n",
    "\n",
    "Recall that the infitinite-horizon regulator solution for step cost $x^\\top Q x + u^\\top R u$\n",
    "is given by $u= Kx$ where $K$ is defined by:\n",
    "\\begin{align*}\n",
    "S&= Q + A^\\top S A - A^\\top S B(R+B^\\top S B)^{-1} B^\\top S A \\\\\n",
    "K&= -(R+B^\\top S B)^{-1} B^\\top S A\n",
    "\\end{align*}\n",
    "\n",
    "Assume that $S$ is positive definite and the origin is asymptoically stable for the system $x^+=(A+BK)x$.\n",
    "Show that $V(x) = x^\\top S x$ is a Lyapunov function for this system. \n",
    "\n",
    "Furthermore,  show that if $x(k+1) = (A+BK)x(k)$ and $\\ell(x,u) = x^\\top Q x + u^\\top R u$,  then\n",
    "\\begin{equation*}\n",
    "x(0)^\\top S x(0) = \\sum_{k=0}^{\\infty} \\ell(x(k),u(k))\n",
    "\\end{equation*}"
   ]
  },
  {
   "cell_type": "markdown",
   "metadata": {},
   "source": [
    "# Coding Question 1\n",
    "\n",
    "Let $Q$ be and $R$ be identity matrices of appropriate size. Use the command `la.solve_discrete_are` to find $S$, and then compute $K$ for this system."
   ]
  },
  {
   "cell_type": "code",
   "execution_count": null,
   "metadata": {},
   "outputs": [],
   "source": [
    "# Define your solution here\n",
    "\n",
    "# Change these to the correct values\n",
    "S = np.zeros((4,4))\n",
    "K = np.zeros((2,4))"
   ]
  },
  {
   "cell_type": "markdown",
   "metadata": {},
   "source": [
    "# Theory Question 2\n",
    "\n",
    "One of the fundamental conditions required to ensure stability of MPC is that the final constraint set $\\mathbb{X}_f$ and the final cost $V_f$ be such that for all $x\\in \\mathbb{X}_f$, there is a $u$ such\n",
    "*  $Ax+Bu\\in \\mathbb{X}_f$ (control invariance)\n",
    "* $V_f(Ax+Bu) + \\ell(x,u) \\le V_f(x)$ (non-increasing end cost)\n",
    "* $(x,u)$ is feasible (control feasibility).\n",
    "\n",
    "We saw that if the system is linear, and a stabilizing control gain $K$, then the final cost and constraint could be constructed from the corresponding Lyapunov function. Namely, if \n",
    "$$\n",
    "V_f(x) = x^\\top Sx,\n",
    "$$\n",
    "where $S$ and $K$ are defined as above, and $\\mathbb{X}_f = \\{x | V_f(x) \\le c\\}$ for some positive $c$, then the control invariance and non-increasing cost conditions are automatically satisfied by choosing $u=Kx$.\n",
    "\n",
    "Thus, the only thing that remains is to find $c>0$ such that the feasibility condition holds. Here we will describe a systematic method for finding such a $c$.\n",
    "\n",
    "The constraints on the control and state were defined above. They can be written in vector form \n",
    "$$\n",
    "Fx + Gu \\preceq h,\n",
    "$$\n",
    "where the inequality is interpreted elementwise.\n",
    "\n",
    "Show that $c$ can be found by solving a collection of quadratic programs. (A quadratic program is an optimization problem in which the objective is quadratic and the constraints are affine.)\n",
    "\n",
    "Explain how the code below implements such a procedure. (Of course, this makes the question easier, but CasADi has substantially less online documentation than other tools used in this class. So seeing how it is used for our problems is helpful.)"
   ]
  },
  {
   "cell_type": "code",
   "execution_count": null,
   "metadata": {},
   "outputs": [],
   "source": [
    "# NOTE: This code will only work properly if K is a stabilizing gain and S is the corresponding\n",
    "# Lyapunov Matrix. In other words, you need to have solved the previous problem.\n",
    "\n",
    "# Here is CasADi syntax for defining symbolic variables\n",
    "x_sym = MX.sym('x',4)\n",
    "\n",
    "u_sym = K @ x_sym\n",
    "\n",
    "# Unlike numpy, CasADi assumes everything is a matrix\n",
    "# So, you need to do explicit transposes to represent row vecrors\n",
    "QuadObj = x_sym.T @ S @ x_sym\n",
    "\n",
    "# These will represent constraints to be violated\n",
    "g_u_low = env.action_space.low - u_sym\n",
    "g_u_high = u_sym - env.action_space.high\n",
    "\n",
    "g_x_low = env.observation_space.low - x_sym\n",
    "g_x_high = x_sym - env.observation_space.high\n",
    "\n",
    "g_vec = vertcat(g_u_low,g_u_high,g_x_low,g_x_high)\n",
    "\n",
    "c = np.inf\n",
    "\n",
    "for i in range(g_vec.shape[0]):\n",
    "    qp = {'x' : x_sym,'f' : QuadObj, 'g' : g_vec[i]}\n",
    "\n",
    "    solver = qpsol('solver','qpoases',qp)\n",
    "    qp_res = solver(lbg=0)\n",
    "    print(qp_res['f'])\n",
    "    c = np.min([qp_res['f'],c])\n",
    "    \n",
    "# Just to make it a bit conservative, decrease a bit further\n",
    "c = .9 * c"
   ]
  },
  {
   "cell_type": "markdown",
   "metadata": {},
   "source": [
    "# Coding Question 2\n",
    "\n",
    "Use CasADi to create a nonlinear program for computing an MPC controller using the costs $\\ell(x,u) = x^\\top x + u^\\top u$, and $V_f(x) = x^\\top S x$. Because the final cost constraint $V_f(x_N)\\le c$ is quadratic, the problem can no longer be cast as quadratic program. So, you'll need to use the CasADi nonlinear programming interface. (The syntax is similar to the quadratic program.)\n",
    "\n",
    "With $\\mathbb{X}_f$ and $c$ defined as above, you'll likely need a horizon of around $N=50$ to ensure that the MPC problem is always feasible. \n",
    "\n",
    "Test your controller by simulating 100 steps of the gym environment and plotting the result. (So, just modify the code above.)\n",
    "\n",
    "Hint: Due to numerical error, your MPC controller may produce inputs that slightly violate the constraints, which will cause the simulation to stop. To get around this, you can \"tighten\"  the constraints by casting them in the form $Fx + Gx\\le h -\\epsilon \\mathbf{1}$, where $\\epsilon $ is a small positive number and $\\mathbf{1}$ is the vector of all ones."
   ]
  },
  {
   "cell_type": "code",
   "execution_count": null,
   "metadata": {},
   "outputs": [],
   "source": [
    "# Make your code here"
   ]
  }
 ],
 "metadata": {
  "kernelspec": {
   "display_name": "Python [default]",
   "language": "python",
   "name": "python3"
  },
  "language_info": {
   "codemirror_mode": {
    "name": "ipython",
    "version": 3
   },
   "file_extension": ".py",
   "mimetype": "text/x-python",
   "name": "python",
   "nbconvert_exporter": "python",
   "pygments_lexer": "ipython3",
   "version": "3.6.8"
  }
 },
 "nbformat": 4,
 "nbformat_minor": 2
}
