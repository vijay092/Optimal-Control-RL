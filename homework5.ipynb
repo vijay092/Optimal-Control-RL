{
 "cells": [
  {
   "cell_type": "markdown",
   "metadata": {},
   "source": [
    "This homework will have a mix of theory and coding. Turn the theory questions in at class Friday, Oct. 18 and upload the code to canvas."
   ]
  },
  {
   "cell_type": "code",
   "execution_count": 1,
   "metadata": {},
   "outputs": [],
   "source": [
    "import numpy as np\n",
    "from casadi import *\n",
    "import matplotlib.pyplot as plt"
   ]
  },
  {
   "cell_type": "markdown",
   "metadata": {},
   "source": [
    "# Coding Problem \n",
    "\n",
    "The Rayleigh problem is a common benchmark for constrained optimal control. Defined as follows.\n",
    "\n",
    "\\begin{align*}\n",
    "& \\min && \\int_0^{4.5} (u(t)^2 + x_0(t)^2)dt \\\\\n",
    "& \\textrm{subject to} && \\dot x_0(t) = x_1(t) \\\\\n",
    "&&& \\dot x_1(t) = -x_0(t) + x_1(t)(1.4 - 0.14 x_1(t)^2) + 4 u(t) \\\\\n",
    "&&& u+x_0(t)/6 \\le 0 \\\\\n",
    "&&& x_0(0) = -5 \\\\\n",
    "&&& x_1(0) = -5\n",
    "\\end{align*}\n",
    "\n",
    "The relevant quantities are defined below."
   ]
  },
  {
   "cell_type": "code",
   "execution_count": 2,
   "metadata": {},
   "outputs": [],
   "source": [
    "p = 0.14\n",
    "\n",
    "# An augmented state vector that includes the running cost and\n",
    "# the original state\n",
    "y = MX.sym('y',3)\n",
    "# The original state\n",
    "x = y[1:,0]\n",
    "# The input\n",
    "u = MX.sym('u',1)\n",
    "\n",
    "# cost\n",
    "ell = u**2 + x[0]**2\n",
    "\n",
    "# dynamics\n",
    "f = vertcat(x[1],-x[0]+x[1]*(1.4 - p*x[1]**2)+4*u)\n",
    "# Augmented Dynamics\n",
    "# This includes the running cost, as well as a dummy index for time.\n",
    "t_sym = MX.sym('t_sym',1)\n",
    "f_aug = vertcat(ell,f) # augment cost with dynamics\n",
    "f_aug_fun = Function('f_aug',[t_sym,y,u],[f_aug])\n",
    "\n",
    "# constraint\n",
    "g = u + x[0]/6\n",
    "g_fun = Function('g',[y,u],[g])"
   ]
  },
  {
   "cell_type": "markdown",
   "metadata": {},
   "source": [
    "Use direct collocation to solve the Rayleigh problem using each of the following collocation vectors:\n",
    "\n",
    "$$\n",
    "c = \n",
    "=\\begin{bmatrix}\n",
    "0.\n",
    "\\end{bmatrix}, \\quad\n",
    "\\begin{bmatrix}\n",
    "0.5\n",
    "\\end{bmatrix}, \\quad\n",
    "\\begin{bmatrix}\n",
    "1.\n",
    "\\end{bmatrix}, \\quad\n",
    "\\begin{bmatrix}\n",
    "0 \\\\\n",
    "1\n",
    "\\end{bmatrix}, \\quad\n",
    "\\begin{bmatrix}\n",
    "1/2 - \\sqrt{3}/6 \\\\\n",
    "1/2 + \\sqrt{3}/6 \n",
    "\\end{bmatrix}, \\quad\n",
    "\\begin{bmatrix}\n",
    "0 \\\\\n",
    "1/2 \\\\\n",
    "1\n",
    "\\end{bmatrix},\n",
    "$$\n",
    "\n",
    "In particular, for each collocation vector, $c$, and each $N \\in \\{10,20,30\\}$,\n",
    "solve the problem on a grid of equally spaces time points $0=t_0<t_1<\\cdots < t_N = 4.5$.\n",
    "\n",
    "The goal is to see how the solution accuracy improves as $N$ increases.\n",
    "\n",
    "Make two plots for each $c$, one for $x_0(t)$ and the other for $x_1(t)$. Plot the results for the different values of $N$ together to compare them. Use markers or a legend to ensure that the results for different $N$ can be distinguished. Label the plots so it is clear what $c$ is being examined."
   ]
  },
  {
   "cell_type": "code",
   "execution_count": 3,
   "metadata": {
    "scrolled": true
   },
   "outputs": [
    {
     "name": "stdout",
     "output_type": "stream",
     "text": [
      "\n",
      "******************************************************************************\n",
      "This program contains Ipopt, a library for large-scale nonlinear optimization.\n",
      " Ipopt is released as open source code under the Eclipse Public License (EPL).\n",
      "         For more information visit http://projects.coin-or.org/Ipopt\n",
      "******************************************************************************\n",
      "\n"
     ]
    },
    {
     "ename": "TypeError",
     "evalue": "'NoneType' object is not subscriptable",
     "output_type": "error",
     "traceback": [
      "\u001b[1;31m---------------------------------------------------------------------------\u001b[0m",
      "\u001b[1;31mTypeError\u001b[0m                                 Traceback (most recent call last)",
      "\u001b[1;32m<ipython-input-3-156d071f056b>\u001b[0m in \u001b[0;36m<module>\u001b[1;34m\u001b[0m\n\u001b[0;32m     37\u001b[0m \u001b[1;33m\u001b[0m\u001b[0m\n\u001b[0;32m     38\u001b[0m         \u001b[1;32mfor\u001b[0m \u001b[0mi\u001b[0m \u001b[1;32min\u001b[0m \u001b[0mrange\u001b[0m\u001b[1;33m(\u001b[0m\u001b[0mn\u001b[0m\u001b[1;33m)\u001b[0m\u001b[1;33m:\u001b[0m\u001b[1;33m\u001b[0m\u001b[1;33m\u001b[0m\u001b[0m\n\u001b[1;32m---> 39\u001b[1;33m             \u001b[0max\u001b[0m\u001b[1;33m[\u001b[0m\u001b[0mi\u001b[0m\u001b[1;33m]\u001b[0m\u001b[1;33m.\u001b[0m\u001b[0mplot\u001b[0m\u001b[1;33m(\u001b[0m\u001b[0mTime\u001b[0m\u001b[1;33m,\u001b[0m\u001b[0mX_RK\u001b[0m\u001b[1;33m[\u001b[0m\u001b[0mi\u001b[0m\u001b[1;33m]\u001b[0m\u001b[1;33m,\u001b[0m\u001b[1;34m'o'\u001b[0m\u001b[1;33m)\u001b[0m\u001b[1;33m\u001b[0m\u001b[1;33m\u001b[0m\u001b[0m\n\u001b[0m\u001b[0;32m     40\u001b[0m             \u001b[0max\u001b[0m\u001b[1;33m[\u001b[0m\u001b[0mi\u001b[0m\u001b[1;33m]\u001b[0m\u001b[1;33m.\u001b[0m\u001b[0mset_ylabel\u001b[0m\u001b[1;33m(\u001b[0m\u001b[1;34mr'$x_%d(t)$'\u001b[0m \u001b[1;33m%\u001b[0m \u001b[1;33m(\u001b[0m\u001b[0mi\u001b[0m\u001b[1;33m+\u001b[0m\u001b[1;36m1\u001b[0m\u001b[1;33m)\u001b[0m\u001b[1;33m)\u001b[0m\u001b[1;33m\u001b[0m\u001b[1;33m\u001b[0m\u001b[0m\n\u001b[0;32m     41\u001b[0m \u001b[1;33m\u001b[0m\u001b[0m\n",
      "\u001b[1;31mTypeError\u001b[0m: 'NoneType' object is not subscriptable"
     ]
    },
    {
     "data": {
      "image/png": "[encoded data removed]",
      "text/plain": [
       "<Figure size 432x288 with 3 Axes>"
      ]
     },
     "metadata": {
      "needs_background": "light"
     },
     "output_type": "display_data"
    }
   ],
   "source": [
    "# Make your solution here\n",
    "# It is probably helpful to use functions / loops as in last week's solution\n",
    "\n",
    "# Solution Code\n",
    "\n",
    "import numpy as np\n",
    "import scipy.linalg\n",
    "import runge_kutta_hw5_1 as rk\n",
    "from casadi import *\n",
    "a = np.array([10, 20, 30])\n",
    "for idx in a:\n",
    "    Time = np.linspace(0,4.5,idx)\n",
    "    x0 = [-5,-5,1]; u0 = 1; n = len(x0)\n",
    "\n",
    "\n",
    "    n = len(x0)\n",
    "\n",
    "\n",
    "    C_vecs = [np.array([0.]),\n",
    "              np.array([.5]),\n",
    "              np.array([1.]),\n",
    "              np.array([0.,1]),\n",
    "              np.array(collocation_points(2,'legendre')),\n",
    "              np.array([0,.5,1])]\n",
    "\n",
    "\n",
    "\n",
    "    for c in C_vecs:\n",
    "        c,A,b = rk.collocation_tableau(c)\n",
    "\n",
    "        X_RK = rk.runge_kutta_sim(f_aug_fun, Time,x0,u0,c,A,b)\n",
    "\n",
    "        fig,ax = plt.subplots(n,1,sharex=True)\n",
    "        c_str = ','.join([str(ci) for ci in c])\n",
    "        ax[0].set_title('c = [%s]' % c_str)\n",
    "        ax[-1].set_xlabel('Time')\n",
    "        \n",
    "        for i in range(n):\n",
    "            ax[i].plot(Time,X_RK[i],'o')\n",
    "            ax[i].set_ylabel(r'$x_%d(t)$' % (i+1))\n",
    "            \n",
    "    plt.show()\n",
    "\n",
    "            "
   ]
  },
  {
   "cell_type": "markdown",
   "metadata": {},
   "source": [
    "# Value functions in matrix / vector form.\n",
    "\n",
    "Given an MDP, described by $p(s',r|s,a)$ and policy $\\pi(a|s)$, we can get Markov chain by marginalizing $a$ and $r$:\n",
    "$$\n",
    "p_{\\pi}(s'|s) = \\sum_{r,a} p(s',r|s,a)\\pi(a|s).\n",
    "$$\n",
    "\n",
    "\n",
    "Similarly, the expected reward at state $s$, $\\bar r(s)$ can be computed by\n",
    "$$\n",
    "\\bar r(s) = \\sum_{r,a,s'}p(s',r|s,a) \\pi(a|s)r\n",
    "$$\n",
    "\n",
    "Assume that $s$ takes values $1,\\ldots,n$. Let $P$ be the $n\\times n$ matrix with $P_{i,j} = p_{\\pi}(j|i)$ and let $\\bar r$ be the column vector formed by stacking the entries of $\\bar r(i)$. In this notation, the Bellman equation for $v_{\\pi}$ can be expressed by \n",
    "$$\n",
    "v_{\\pi} = \\bar r + \\gamma P v_{\\pi}.\n",
    "$$\n",
    "\n",
    "Note that $P$ is a *row-stochastic* matrix. That is, it has non-negative entries and its rows sum to $1$.\n",
    "\n",
    "For notational simplicity, below we will analyze the equation:\n",
    "\n",
    "$$\n",
    "v = r + \\gamma P v\n",
    "$$\n",
    "where $r$ and $v$ are $n\\times 1$ vectors, $\\gamma \\in [0,1]$, and $P$ is row stochastic.\n",
    "\n",
    "When discussing the corresponding Markov chain in probabilistic terms, we will denote the transition probabilities by $p(s'|s)$, where $P_{s,s'}=p(s'|s)$."
   ]
  },
  {
   "cell_type": "markdown",
   "metadata": {},
   "source": [
    "# Theory Question 1\n",
    "\n",
    "Recall that the $\\infty$-norm for vectors is defined by $\\|w\\|_{\\infty} = \\max_{i=1,\\ldots,n} |w_i|$.\n",
    "\n",
    "Show that for all $w\\in \\mathbb{R}^n$, we have that $\\|Pw\\|_{\\infty} \\le \\|w\\|_{\\infty}$. \n",
    "\n",
    "Furthermore, show that if $\\lambda$ is an eigenvalue of $P$ then $|\\lambda | \\le 1$."
   ]
  },
  {
   "cell_type": "markdown",
   "metadata": {},
   "source": [
    "# Theory Question 2\n",
    "\n",
    "Show that if $\\gamma \\in [0,1)$, then for every $r$ there is a unique $v$ such that $v = r + \\gamma Pv$."
   ]
  },
  {
   "cell_type": "markdown",
   "metadata": {},
   "source": [
    "# Theory Question 3\n",
    "\n",
    "Let $S_0,S_1,S_2,\\ldots$ be a sequence of states generated by the Markov chain associated with $P$.\n",
    "\n",
    "Now we will consider the case that the Markov chain always reaches a terminal state. Specifically, we assume that there is a state $\\hat s$ such that $p(\\hat s | \\hat s) = 1$ and an integer $M$ such that $p(S_t = \\hat s | S_0=i) > 0 $ for all $t\\ge M$ and all $i=1,\\ldots, n$.\n",
    "\n",
    "\n",
    "\n",
    "Without loss of generality, assume that $\\hat s = n$. In this case $P$ can be expressed as\n",
    "$$\n",
    "P = \\begin{bmatrix}\n",
    "Q & b \\\\\n",
    "0 & 1\n",
    "\\end{bmatrix}.\n",
    "$$\n",
    "\n",
    "Show that for each $i,j \\in \\{1,\\ldots,n-1\\}$, $p(S_t = j| S_0=i) = e_i^\\top Q^t e_j$, where $e_i$ and $e_j$ are standard unit vectors with $1$ in the respective $i$ and $j$ columns, zeros elsewhere. \n",
    "\n",
    "Show further that for each $i,j \\in \\{1,\\ldots,n-1\\}$ we must have that $\\lim_{t\\to\\infty} p(S_t=j|S_0=i) =0$."
   ]
  },
  {
   "cell_type": "markdown",
   "metadata": {},
   "source": [
    "# Theory Question 4\n",
    "\n",
    "Show that if $\\lambda$ is an eigenvalue of $Q$, then $|\\lambda | < 1$.\n",
    "\n",
    "# Theory Question 5\n",
    "\n",
    "Assume that $r(n) = 0$. Show that if $v(n)=0$, then there are unique values of $v(1),\\ldots,v(n-1)$ such that $v=r+Pv$. \n",
    "\n",
    "# Theory Question 6\n",
    "\n",
    "Let $T$ be the first time $t$ such that $S_t = n = \\hat s$. Find an expression for $\\mathbb{E}[T|S_0=i]$, for $i=1,\\ldots,n-1$ in terms of $Q$."
   ]
  },
  {
   "cell_type": "markdown",
   "metadata": {},
   "source": []
  }
 ],
 "metadata": {
  "kernelspec": {
   "display_name": "Python 3",
   "language": "python",
   "name": "python3"
  },
  "language_info": {
   "codemirror_mode": {
    "name": "ipython",
    "version": 3
   },
   "file_extension": ".py",
   "mimetype": "text/x-python",
   "name": "python",
   "nbconvert_exporter": "python",
   "pygments_lexer": "ipython3",
   "version": "3.7.3"
  }
 },
 "nbformat": 4,
 "nbformat_minor": 2
}
